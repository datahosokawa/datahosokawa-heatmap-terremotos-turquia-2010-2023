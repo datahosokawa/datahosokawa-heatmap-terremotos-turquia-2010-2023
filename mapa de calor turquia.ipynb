{
 "cells": [
  {
   "cell_type": "code",
   "execution_count": 71,
   "id": "eafe8f88-80af-4fa1-a036-ece4c969a9c8",
   "metadata": {
    "tags": []
   },
   "outputs": [],
   "source": [
    "#importando as bibliotecas necessárias para a análise\n",
    "\n",
    "import folium\n",
    "from folium.plugins import HeatMap\n",
    "import pandas as pd\n",
    "\n",
    "\n",
    "\n",
    "#carrega o dataset de terremotos na turquia de 2010 - 2023 : https://earthquake.usgs.gov/earthquakes/search/\n",
    "df = pd.read_csv('Heatmap Earthquakes - Turkey 2010-2023/Data/earthquakes_turkey_2010-2023.csv')\n",
    "\n",
    "# cria o mapa com as coordenadas da Turquia, utilizando o estilo dark_matter (escuro) e um zoom inicial para focar na região da turquia\n",
    "m = folium.Map(location=[39.9334, 32.8597], zoom_start=6, tiles='CartoDB dark_matter')\n",
    "\n",
    "\n",
    "# cria o mapa de calor utilizando a função heatmap, consumindo os dados do dataset\n",
    "heatmap = folium.plugins.HeatMap(data=df[['latitude', 'longitude', 'mag']].values.tolist(),\n",
    "                                 name='Magnitude',\n",
    "                                 min_opacity=0.3,\n",
    "                                 radius= 6,blur=2)\n",
    "\n",
    "# Agora vamos adicionar o mapa de calor ao mapa da Turquia criado acima\n",
    "heatmap.add_to(m)\n",
    "\n",
    "# Precisamos importar um arquivo JSON contendo as cidades e regiões da turquia, assim podemos representar as áreas divididas por cores, linhas etc: https://github.com/alpers/Turkey-Maps-GeoJSON\n",
    "with open('Heatmap Earthquakes - Turkey 2010-2023/Json/tr-cities.json', encoding='utf-8') as f:\n",
    "    geo_json = json.load(f)\n",
    "\n",
    "#Aqui definimos os estilos das linhas e cores de fundo do geoJSON\n",
    "def style_function(feature):\n",
    "    return {\n",
    "        'color': 'cyan',\n",
    "        'weight': 0,\n",
    "        'fillColor': 'blue',\n",
    "        'fillOpacity': 0.03,\n",
    "        \n",
    "        }\n",
    "\n",
    "folium.GeoJson(\n",
    "    geo_json,\n",
    "    name='Turquia',\n",
    "    style_function=style_function,\n",
    "    tooltip=folium.GeoJsonTooltip(fields=['name'], aliases=['Cidade'])\n",
    ").add_to(m)\n",
    "\n",
    "\n",
    "#agora é só exibir o mapa M e exportar para o formato desejado\n",
    "m\n",
    "m.save('Heatmap Earthquakes - Turkey 2010-2023/mapa.html')"
   ]
  },
  {
   "cell_type": "code",
   "execution_count": null,
   "id": "136df4f7-98d4-4e32-8592-7ddb4ce3b666",
   "metadata": {},
   "outputs": [],
   "source": []
  }
 ],
 "metadata": {
  "kernelspec": {
   "display_name": "Python 3 (ipykernel)",
   "language": "python",
   "name": "python3"
  },
  "language_info": {
   "codemirror_mode": {
    "name": "ipython",
    "version": 3
   },
   "file_extension": ".py",
   "mimetype": "text/x-python",
   "name": "python",
   "nbconvert_exporter": "python",
   "pygments_lexer": "ipython3",
   "version": "3.9.13"
  }
 },
 "nbformat": 4,
 "nbformat_minor": 5
}
